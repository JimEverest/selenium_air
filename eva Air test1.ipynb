{
 "cells": [
  {
   "cell_type": "markdown",
   "metadata": {},
   "source": [
    "# python利用beautifulsoup+selenium自动翻页抓取网页内容\n",
    "## http://unclechen.github.io/2016/12/11/python%E5%88%A9%E7%94%A8beautifulsoup+selenium%E8%87%AA%E5%8A%A8%E7%BF%BB%E9%A1%B5%E6%8A%93%E5%8F%96%E7%BD%91%E9%A1%B5%E5%86%85%E5%AE%B9/"
   ]
  },
  {
   "cell_type": "markdown",
   "metadata": {},
   "source": [
    "### Selenium Setup http://selenium-python.readthedocs.io/installation.html\n",
    "\n"
   ]
  },
  {
   "cell_type": "markdown",
   "metadata": {},
   "source": [
    "## WebDriver https://sites.google.com/a/chromium.org/chromedriver/downloads\n",
    "##### Extract the file and store it in a desired location. and set the executable_path in web_driver initial function."
   ]
  },
  {
   "cell_type": "code",
   "execution_count": null,
   "metadata": {
    "collapsed": true
   },
   "outputs": [],
   "source": [
    "# References:\n",
    "## How do I install ChromeDriver on Windows 10 and run Selenium tests with Chrome?\n",
    "## https://stackoverflow.com/questions/33150351/how-do-i-install-chromedriver-on-windows-10-and-run-selenium-tests-with-chrome"
   ]
  },
  {
   "cell_type": "code",
   "execution_count": null,
   "metadata": {
    "collapsed": true
   },
   "outputs": [],
   "source": [
    "# References:\n",
    "## 【Fake Display】Setting up a Digital Ocean server for Selenium, Chrome, and Python\n",
    "## http://jonathansoma.com/lede/algorithms-2017/servers/setting-up/\n",
    "\n",
    "## Running selenium on a droplet\n",
    "## https://www.digitalocean.com/community/questions/running-selenium-on-a-droplet"
   ]
  },
  {
   "cell_type": "code",
   "execution_count": 1,
   "metadata": {
    "collapsed": true
   },
   "outputs": [],
   "source": [
    "import sys\n",
    "import time\n",
    "from bs4 import BeautifulSoup\n",
    "from selenium import webdriver"
   ]
  },
  {
   "cell_type": "code",
   "execution_count": 2,
   "metadata": {
    "collapsed": true
   },
   "outputs": [],
   "source": [
    "# open an incognito window.\n",
    "chrome_options = webdriver.ChromeOptions()\n",
    "chrome_options.add_argument(\"--incognito\")\n",
    "driver = webdriver.Chrome(executable_path='C:\\chromedriver_win32\\chromedriver.exe',chrome_options=chrome_options)"
   ]
  },
  {
   "cell_type": "code",
   "execution_count": 3,
   "metadata": {
    "collapsed": true
   },
   "outputs": [],
   "source": [
    "url = 'https://booking.evaair.com/flyeva/EVA/B2C/booking-multi.aspx?lang=sc-cn'\n",
    "driver.get(url)\n",
    "name_counter = 1\n",
    "page = 0"
   ]
  },
  {
   "cell_type": "code",
   "execution_count": 19,
   "metadata": {
    "collapsed": true
   },
   "outputs": [],
   "source": [
    "driver.execute_script(\" $('#MainContent_hid_From1').val('TSN')\")\n",
    "driver.execute_script(\" $('#MainContent_hid_To1').val('TSA')\" )\n",
    "driver.execute_script(\" $('#MainContent_hid_Cal1').val('2018/03/02')\" )\n",
    "driver.execute_script(\" $('#MainContent_hid_From2').val('TSA')\" )\n",
    "driver.execute_script(\" $('#MainContent_hid_To2').val('TSN')\" )\n",
    "driver.execute_script(\" $('#MainContent_hid_Cal2').val('2018/03/12')\")\n",
    "#driver.execute_script(\" function of_CheckFields(btn) { return true}\")"
   ]
  },
  {
   "cell_type": "code",
   "execution_count": 18,
   "metadata": {
    "collapsed": true
   },
   "outputs": [],
   "source": [
    "#time.sleep(5)\n",
    "driver.execute_script(\"$('#MainContent_btn_ok').click()\")"
   ]
  },
  {
   "cell_type": "code",
   "execution_count": 5,
   "metadata": {
    "collapsed": true
   },
   "outputs": [],
   "source": [
    "driver.quit()"
   ]
  },
  {
   "cell_type": "code",
   "execution_count": null,
   "metadata": {
    "collapsed": true
   },
   "outputs": [],
   "source": []
  },
  {
   "cell_type": "code",
   "execution_count": 15,
   "metadata": {},
   "outputs": [
    {
     "name": "stdout",
     "output_type": "stream",
     "text": [
      "王俊凯\n",
      "马天宇\n",
      "金秀贤\n",
      "曾艳芬\n",
      "易烊千玺\n",
      "李学政\n",
      "黄子韬\n",
      "郑智薰\n",
      "迪丽热巴\n",
      "周笔畅\n",
      "黄婷婷\n",
      "金钟国\n",
      "陈伟霆\n",
      "史文翔\n",
      "余枫\n",
      "鹿晗\n",
      "华晨宇\n",
      "钟汉良\n",
      "陈乔恩\n",
      "李易峰\n",
      "张国荣\n",
      "张艺兴\n",
      "刘昊然\n",
      "胡宇威\n",
      "SNH48\n",
      "蔡徐坤\n",
      "胡一天\n",
      "朴施厚\n",
      "王凯\n",
      "杨洋\n",
      "赵丽颖\n",
      "李丞峰\n",
      "张丹峰\n",
      "王源\n",
      "山下智久\n",
      "黄致列\n",
      "白敬亭\n",
      "樱井翔\n",
      "许魏洲\n",
      "欧豪\n",
      "胡歌\n",
      "郑爽\n",
      "黄景瑜\n",
      "宋茜\n",
      "宋威龙\n",
      "迪·杰西达邦·福尔迪\n",
      "徐海乔\n",
      "马可\n",
      "杨培安\n",
      "王嘉尔\n",
      "吴磊\n",
      "朱镇模\n",
      "吴亦凡\n",
      "薛之谦\n",
      "杨宗纬\n",
      "杨幂\n",
      "冯建宇\n",
      "林青霞\n",
      "周芷莹\n",
      "乔任梁\n",
      "61\n"
     ]
    }
   ],
   "source": [
    "while page < 3: # 共50页，这里是手工指定的\n",
    "\tsoup = BeautifulSoup(driver.page_source, \"html.parser\")\n",
    "\tcurrent_names = soup.select('div.ranking-table') # 选择器用ranking-table css class，可以取出包含本周、上周的两个table的div标签\n",
    "\tfor current_name_list in current_names:\n",
    "\t\t# print current_name_list['data-cat']\n",
    "\t\tif current_name_list['data-cat'] == 'thisWeek': # 这次我只想抓取本周，如果想抓上周，改一下这里为lastWeek即可\n",
    "\t\t\tnames = current_name_list.select('td.star-name > a') # beautifulsoup选择器语法\n",
    "\t\t\tcounter = 0;\n",
    "\t\t\tfor star_name in names:\n",
    "\t\t\t\tcounter = counter + 1;\n",
    "\t\t\t\tprint (star_name.text) # 明星的名字是a标签里面的文本，虽然a标签下面除了文本还有一个与文本同级别的img标签，但是.text输出的只是文本而已\n",
    "\t\t\t\tname_counter = name_counter + 1;\n",
    "\tdriver.find_element_by_xpath(\"//a[contains(text(),'下一页')]\").click() # selenium的xpath用法，找到包含“下一页”的a标签去点击\n",
    "\tpage = page + 1\n",
    "\ttime.sleep(2) # 睡2秒让网页加载完再去读它的html代码\n",
    "\n",
    "print (name_counter) # 共爬取得明星的名字数量\n",
    "driver.quit()"
   ]
  },
  {
   "cell_type": "code",
   "execution_count": null,
   "metadata": {
    "collapsed": true
   },
   "outputs": [],
   "source": []
  }
 ],
 "metadata": {
  "kernelspec": {
   "display_name": "Python 3",
   "language": "python",
   "name": "python3"
  },
  "language_info": {
   "codemirror_mode": {
    "name": "ipython",
    "version": 3
   },
   "file_extension": ".py",
   "mimetype": "text/x-python",
   "name": "python",
   "nbconvert_exporter": "python",
   "pygments_lexer": "ipython3",
   "version": "3.6.3"
  }
 },
 "nbformat": 4,
 "nbformat_minor": 2
}
